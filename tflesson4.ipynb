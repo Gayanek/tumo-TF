{
 "cells": [
  {
   "cell_type": "code",
   "execution_count": 30,
   "metadata": {
    "collapsed": false
   },
   "outputs": [
    {
     "name": "stdout",
     "output_type": "stream",
     "text": [
      "[[ 71.99124146]\n",
      " [ 93.5364151 ]\n",
      " [ 69.37245178]\n",
      " [ 65.88803101]\n",
      " [ 90.20233154]]\n",
      "0.00214073\n"
     ]
    }
   ],
   "source": [
    "import tensorflow as tf\n",
    "train_input_data = [[10, 7], [5, 4], [8, 3], [2, 8], [4, 8]]\n",
    "train_output_data = [[97], [71], [74], [78], [90]]\n",
    "\n",
    "# Number of training examples.\n",
    "NUM_TRAIN_EXAMPLES = len(train_input_data)\n",
    "\n",
    "# Store the number of features so we can use it in our neural network structure.\n",
    "NUM_FEATURES = len(train_input_data[0])\n",
    "\n",
    "test_input_data = [[9, 1], [6, 8], [1, 7], [5, 3], [7, 6]]\n",
    "test_output_data = [[68], [95], [65], [70], [82]]\n",
    "\n",
    "# Number of training steps\n",
    "EPOCHS = 10000\n",
    "# Number of neurons in the neural network's hidden layer.\n",
    "NUM_HIDDEN_LAYER_NEURONS = 3\n",
    "# Learning rate of our gradient descent optimizer.\n",
    "LEARNING_RATE = 2.0\n",
    "\n",
    "graph = tf.Graph()\n",
    "with graph.as_default():\n",
    "  # Create a placeholder input tensor.\n",
    "    input = tf.placeholder(dtype=tf.float32)\n",
    "\n",
    "  # Create a placeholder for the output tensor (the observed test scores).\n",
    "    output = tf.placeholder(dtype=tf.float32)\n",
    "\n",
    "    train_data = {input: train_input_data, output: train_output_data}\n",
    "    test_data = {input: test_input_data, output: test_output_data}\n",
    "\n",
    "  # Determine the maximum value of each feature. The result is a 1x2 array.\n",
    "    max_input = tf.reduce_max(input, 0)\n",
    "\n",
    "  # Now all of our input values are in the range [0.0, 1.0].\n",
    "    normalized_input = input / max_input\n",
    "\n",
    "  # Set up the operations that will normalize the output tensor.\n",
    "    max_output = tf.reduce_max(output)\n",
    "    normalized_output = output / max_output\n",
    "\n",
    "  # Now let's describe the structure of the neural network. We have 2 input features,\n",
    "  # as described by the input dataset, so this corresponds to 2 nodes in the input\n",
    "  # layer. Now we want to have a single hidden layer with 3 neurons. Finally, the\n",
    "  # output layer will only have 1 neuron (the test score).\n",
    "    num_neurons_1 = NUM_FEATURES\n",
    "    num_neurons_2 = NUM_HIDDEN_LAYER_NEURONS\n",
    "    num_neurons_3 = 1\n",
    "\n",
    "  # Define the weights on the synapses between the input layer and the hidden layer.\n",
    "    weights_1 = tf.Variable(tf.random_normal([num_neurons_1, num_neurons_2]))\n",
    "\n",
    "  # Model the bias parameter, as well.\n",
    "    bias_1 = tf.Variable(tf.random_normal([num_neurons_2]))\n",
    "\n",
    "  # Compute the weighted sum and add in the bias. Note that bias_1 is 1x3, but the 3 \n",
    "  # values will be element-wise added to each row in weighted_sums_1, which is 7x3.\n",
    "    weighted_sums_1 = tf.matmul(normalized_input, weights_1) + bias_1\n",
    "\n",
    "  # Apply the activation function (sigmoid).\n",
    "    activation_1 = tf.sigmoid(weighted_sums_1)\n",
    "\n",
    "  # Do the same steps for the second (output) layer.\n",
    "    weights_2 = tf.Variable(tf.random_normal([num_neurons_2, num_neurons_3]))\n",
    "    bias_2 = tf.Variable(tf.random_normal([num_neurons_3]))\n",
    "    weighted_sums_2 = tf.matmul(activation_1, weights_2) + bias_2\n",
    "    activation_2 = tf.sigmoid(weighted_sums_2)\n",
    "\n",
    "  # Define the loss function as the sum of squared differences between observed\n",
    "  # and computed output.\n",
    "    loss = tf.reduce_sum((activation_2 - normalized_output)**2) / NUM_TRAIN_EXAMPLES\n",
    "\n",
    "  # Set up the Stochastic Gradient Descient optimizer to minimize the loss.\n",
    "    train_step = tf.train.GradientDescentOptimizer(learning_rate=LEARNING_RATE).minimize(loss)\n",
    "\n",
    "    with tf.Session() as sess:\n",
    "        sess.run(tf.global_variables_initializer())\n",
    "\n",
    "   \n",
    "        for i in range(EPOCHS):\n",
    "              sess.run(train_step, feed_dict = train_data)\n",
    "        \n",
    "        l = sess.run(loss,feed_dict = test_data )\n",
    "        \n",
    "        a = sess.run(activation_2,feed_dict = test_data )\n",
    "        print(a * 97)\n",
    "        \n",
    "        print(l)\n",
    "        "
   ]
  },
  {
   "cell_type": "code",
   "execution_count": null,
   "metadata": {
    "collapsed": true
   },
   "outputs": [],
   "source": []
  },
  {
   "cell_type": "code",
   "execution_count": null,
   "metadata": {
    "collapsed": true
   },
   "outputs": [],
   "source": []
  }
 ],
 "metadata": {
  "kernelspec": {
   "display_name": "Python 3",
   "language": "python",
   "name": "python3"
  },
  "language_info": {
   "codemirror_mode": {
    "name": "ipython",
    "version": 3
   },
   "file_extension": ".py",
   "mimetype": "text/x-python",
   "name": "python",
   "nbconvert_exporter": "python",
   "pygments_lexer": "ipython3",
   "version": "3.6.0"
  }
 },
 "nbformat": 4,
 "nbformat_minor": 2
}
