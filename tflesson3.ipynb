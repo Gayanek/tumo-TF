{
 "cells": [
  {
   "cell_type": "code",
   "execution_count": 18,
   "metadata": {
    "collapsed": false,
    "deletable": true,
    "editable": true
   },
   "outputs": [],
   "source": [
    "import tensorflow as tf\n",
    "\n",
    "with tf.Graph().as_default() as g:\n",
    "    with tf.Session() as sess:\n",
    "        input_data = [ [10, 7],[5, 4],[8, 3],[2,8],[4, 8],[9, 1],[6,8],[1,7],[5, 3],[7,6] ]\n",
    "        output_data = [[97],[71],[74],[78],[90],[68],[95],[65],[70],[82]]\n",
    "        \n",
    "        input = tf.placeholder(dtype =tf.float32)\n",
    "        output = tf.placeholder(dtype =tf.float32)\n",
    "        \n",
    "        feed_dict = {input:input_data, output:output_data }\n",
    "        max_input = tf.reduce_max(input,0)\n",
    "        \n",
    "        normalized_input = input / max_input\n",
    "        \n",
    "        max_output = tf.reduce_max(output,0)\n",
    "        normalized_output = output / max_output    \n",
    "        \n",
    "        num_neurons_1 = 2\n",
    "        num_neurons_2 = 3\n",
    "        num_neurons_3 = 1\n",
    "        \n",
    "        \n",
    "        weights_1 = tf.Variable(tf.zeros([num_neurons_1, num_neurons_2]))\n",
    "        bias_1 = tf.Variable(tf.zeros([num_neurons_2]))\n",
    "        weighed_sum_1 = tf.matmul(normalized_input , weights_1)\n",
    "        \n",
    "        activation_1 = tf.sigmoid(weighed_sum_1)\n",
    "        \n",
    "        \n",
    "        weights_2 = tf.Variable(tf.zeros([num_neurons_2, num_neurons_3]))\n",
    "        bies_2 = tf.Variable(tf.zeros([num_neurons_3]))\n",
    "        weighed_sum_2 = tf.matmul(activation_1 , weights_2)\n",
    "        \n",
    "        activation_2 = tf.sigmoid(weighed_sum_2)\n",
    "        \n",
    "        \n",
    "        loss = tf.reduce_sum((activation_2 - normalized_output)**2)\n",
    "        \n",
    "        "
   ]
  },
  {
   "cell_type": "code",
   "execution_count": null,
   "metadata": {
    "collapsed": true,
    "deletable": true,
    "editable": true
   },
   "outputs": [],
   "source": []
  },
  {
   "cell_type": "code",
   "execution_count": null,
   "metadata": {
    "collapsed": false,
    "deletable": true,
    "editable": true
   },
   "outputs": [],
   "source": []
  },
  {
   "cell_type": "code",
   "execution_count": null,
   "metadata": {
    "collapsed": true,
    "deletable": true,
    "editable": true
   },
   "outputs": [],
   "source": []
  },
  {
   "cell_type": "code",
   "execution_count": null,
   "metadata": {
    "collapsed": true,
    "deletable": true,
    "editable": true
   },
   "outputs": [],
   "source": []
  },
  {
   "cell_type": "code",
   "execution_count": null,
   "metadata": {
    "collapsed": true,
    "deletable": true,
    "editable": true
   },
   "outputs": [],
   "source": []
  },
  {
   "cell_type": "code",
   "execution_count": null,
   "metadata": {
    "collapsed": true,
    "deletable": true,
    "editable": true
   },
   "outputs": [],
   "source": [
    "\n"
   ]
  },
  {
   "cell_type": "code",
   "execution_count": null,
   "metadata": {
    "collapsed": true,
    "deletable": true,
    "editable": true
   },
   "outputs": [],
   "source": [
    "\n"
   ]
  },
  {
   "cell_type": "code",
   "execution_count": null,
   "metadata": {
    "collapsed": true,
    "deletable": true,
    "editable": true
   },
   "outputs": [],
   "source": []
  },
  {
   "cell_type": "code",
   "execution_count": null,
   "metadata": {
    "collapsed": true,
    "deletable": true,
    "editable": true
   },
   "outputs": [],
   "source": []
  },
  {
   "cell_type": "code",
   "execution_count": null,
   "metadata": {
    "collapsed": true,
    "deletable": true,
    "editable": true
   },
   "outputs": [],
   "source": []
  },
  {
   "cell_type": "code",
   "execution_count": null,
   "metadata": {
    "collapsed": true,
    "deletable": true,
    "editable": true
   },
   "outputs": [],
   "source": [
    "\n"
   ]
  }
 ],
 "metadata": {
  "kernelspec": {
   "display_name": "Python 3",
   "language": "python",
   "name": "python3"
  },
  "language_info": {
   "codemirror_mode": {
    "name": "ipython",
    "version": 3
   },
   "file_extension": ".py",
   "mimetype": "text/x-python",
   "name": "python",
   "nbconvert_exporter": "python",
   "pygments_lexer": "ipython3",
   "version": "3.6.0"
  }
 },
 "nbformat": 4,
 "nbformat_minor": 2
}
